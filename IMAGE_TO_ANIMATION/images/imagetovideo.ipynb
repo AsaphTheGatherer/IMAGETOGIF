{
 "cells": [
  {
   "cell_type": "code",
   "execution_count": 22,
   "id": "b7c1dfe8",
   "metadata": {},
   "outputs": [
    {
     "name": "stdout",
     "output_type": "stream",
     "text": [
      "Requirement already satisfied: Pillow in c:\\users\\yearm.asaph\\anaconda3\\lib\\site-packages (9.4.0)Note: you may need to restart the kernel to use updated packages.\n",
      "\n"
     ]
    }
   ],
   "source": [
    "pip install Pillow\n"
   ]
  },
  {
   "cell_type": "code",
   "execution_count": 23,
   "id": "bb8b2415",
   "metadata": {},
   "outputs": [],
   "source": [
    "from PIL import Image, ImageSequence\n"
   ]
  },
  {
   "cell_type": "code",
   "execution_count": 24,
   "id": "2d620f40",
   "metadata": {},
   "outputs": [
    {
     "name": "stdout",
     "output_type": "stream",
     "text": [
      "Requirement already satisfied: Pillow in c:\\users\\yearm.asaph\\anaconda3\\lib\\site-packages (9.4.0)\n",
      "Note: you may need to restart the kernel to use updated packages.\n"
     ]
    }
   ],
   "source": [
    "pip install Pillow\n"
   ]
  },
  {
   "cell_type": "code",
   "execution_count": 32,
   "id": "3edc562f",
   "metadata": {
    "scrolled": true
   },
   "outputs": [
    {
     "name": "stdout",
     "output_type": "stream",
     "text": [
      "Animated GIF saved at C:\\Users\\yearm.ASAPH\\IMAGE_TO_ANIMATION\\images\\data\\raising_harp_animation.gif\n"
     ]
    }
   ],
   "source": [
    "from PIL import Image\n",
    "import os\n",
    "\n",
    "# Set the directory where your frame images are stored\n",
    "directory = r'C:\\Users\\yearm.ASAPH\\IMAGE_TO_ANIMATION\\images\\data'  # Replace with your directory path\n",
    "\n",
    "# Set the common pattern of your frame filenames, e.g., 'frame_0.png', 'frame_1.png', ...\n",
    "filename_pattern = 'frame_{0}.png','frame_{1}.png','frame_{2}.png','frame_{3}.png','frame_{4}.png','frame_{5}.png','frame_{6}.png','frame_{7}.png','frame_{8}.png'  # Adjust if your files have a different naming convention\n",
    "\n",
    "# Get a list of all files in the directory\n",
    "all_files = os.listdir(directory)\n",
    "\n",
    "# Filter out the frame files and sort them\n",
    "frame_files = sorted([file for file in all_files if file.startswith('frame_') and file.endswith('.png')])\n",
    "\n",
    "# Define the number of frames based on the filtered list\n",
    "number_of_frames = len(frame_files)\n",
    "\n",
    "# Ensure there are frames to process\n",
    "if number_of_frames == 0:\n",
    "    raise ValueError(\"No frame images found. Check your directory and filename pattern.\")\n",
    "\n",
    "# Load your frames as separate Image objects\n",
    "frames = [Image.open(os.path.join(directory, f)) for f in frame_files]\n",
    "\n",
    "# Save the frames as an animated GIF\n",
    "output_path = os.path.join(directory, 'raising_harp_animation.gif')\n",
    "frames[0].save(output_path,\n",
    "               save_all=True,\n",
    "               append_images=frames[1:],\n",
    "               duration=600,  # Duration of each frame in milliseconds\n",
    "               loop=0)  # Loop forever\n",
    "\n",
    "print(f\"Animated GIF saved at {output_path}\")\n"
   ]
  },
  {
   "cell_type": "code",
   "execution_count": null,
   "id": "4e443ccf",
   "metadata": {},
   "outputs": [],
   "source": []
  },
  {
   "cell_type": "code",
   "execution_count": null,
   "id": "b5bf7192",
   "metadata": {},
   "outputs": [],
   "source": []
  }
 ],
 "metadata": {
  "kernelspec": {
   "display_name": "Python 3 (ipykernel)",
   "language": "python",
   "name": "python3"
  },
  "language_info": {
   "codemirror_mode": {
    "name": "ipython",
    "version": 3
   },
   "file_extension": ".py",
   "mimetype": "text/x-python",
   "name": "python",
   "nbconvert_exporter": "python",
   "pygments_lexer": "ipython3",
   "version": "3.11.5"
  }
 },
 "nbformat": 4,
 "nbformat_minor": 5
}
